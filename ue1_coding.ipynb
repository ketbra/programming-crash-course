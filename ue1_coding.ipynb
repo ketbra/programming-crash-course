{
 "cells": [
  {
   "cell_type": "markdown",
   "id": "56ee25f5-8235-4638-b5ca-edc7320886e8",
   "metadata": {
    "slideshow": {
     "slide_type": "slide"
    },
    "tags": []
   },
   "source": [
    "# First Program"
   ]
  },
  {
   "cell_type": "markdown",
   "id": "e90b4f3f-d5f6-49ca-b48e-5eecaf28bce1",
   "metadata": {},
   "source": [
    "We will be programming in a language called Python"
   ]
  },
  {
   "cell_type": "code",
   "execution_count": 81,
   "id": "e382a4e8-b977-4c55-9387-ad61665f641b",
   "metadata": {
    "slideshow": {
     "slide_type": "fragment"
    },
    "tags": []
   },
   "outputs": [
    {
     "name": "stdout",
     "output_type": "stream",
     "text": [
      "Hello UE1\n"
     ]
    }
   ],
   "source": [
    " print(\"Hello World\")"
   ]
  },
  {
   "cell_type": "markdown",
   "id": "2ed7d934-94e1-4c4d-861b-35f56ae26643",
   "metadata": {
    "slideshow": {
     "slide_type": "subslide"
    },
    "tags": []
   },
   "source": [
    "### What you learned"
   ]
  },
  {
   "cell_type": "markdown",
   "id": "42d76dc4-02c4-425b-ad20-77b3b6aac3a7",
   "metadata": {},
   "source": [
    "- Functions - print is a function\n",
    "- Arguments - input to a function"
   ]
  },
  {
   "cell_type": "code",
   "execution_count": 116,
   "id": "4c484cad-bb0a-4ed3-be4c-9d1db906e1cb",
   "metadata": {
    "tags": []
   },
   "outputs": [
    {
     "name": "stdout",
     "output_type": "stream",
     "text": [
      "Hello World\n"
     ]
    }
   ],
   "source": [
    " print(\"Hello World\")"
   ]
  },
  {
   "cell_type": "markdown",
   "id": "f9473eb1-aef3-4c34-a547-adc9914e436c",
   "metadata": {
    "slideshow": {
     "slide_type": "slide"
    },
    "tags": []
   },
   "source": [
    "# Data Types\n",
    "\n",
    "Python needs to know the difference between commands and data"
   ]
  },
  {
   "cell_type": "markdown",
   "id": "02872f48-9e2f-4264-88a9-0c9def86003e",
   "metadata": {
    "slideshow": {
     "slide_type": "subslide"
    },
    "tags": []
   },
   "source": [
    "- Strings"
   ]
  },
  {
   "cell_type": "code",
   "execution_count": 14,
   "id": "60f87b8f-8ac0-4f35-994c-e902fa118e8c",
   "metadata": {
    "tags": []
   },
   "outputs": [
    {
     "data": {
      "text/plain": [
       "'Hello string world'"
      ]
     },
     "execution_count": 14,
     "metadata": {},
     "output_type": "execute_result"
    }
   ],
   "source": [
    "\"Hello string world\""
   ]
  },
  {
   "cell_type": "markdown",
   "id": "adfda2b6-f1b2-401f-a745-6c87385dcc00",
   "metadata": {
    "slideshow": {
     "slide_type": "subslide"
    },
    "tags": []
   },
   "source": [
    "- Numbers"
   ]
  },
  {
   "cell_type": "code",
   "execution_count": 119,
   "id": "85150c67-da5b-49f9-b7dd-f380a8445550",
   "metadata": {
    "tags": []
   },
   "outputs": [
    {
     "data": {
      "text/plain": [
       "6"
      ]
     },
     "execution_count": 119,
     "metadata": {},
     "output_type": "execute_result"
    }
   ],
   "source": [
    "1 + 2 +3"
   ]
  },
  {
   "cell_type": "markdown",
   "id": "ccc602ce-4342-4653-83dc-7b85410b2636",
   "metadata": {
    "slideshow": {
     "slide_type": "subslide"
    },
    "tags": []
   },
   "source": [
    "- Booleans"
   ]
  },
  {
   "cell_type": "code",
   "execution_count": 121,
   "id": "41606b51-fbcb-4552-80d5-c844a5e7f62e",
   "metadata": {
    "tags": []
   },
   "outputs": [
    {
     "data": {
      "text/plain": [
       "True"
      ]
     },
     "execution_count": 121,
     "metadata": {},
     "output_type": "execute_result"
    }
   ],
   "source": [
    "1 < 3"
   ]
  },
  {
   "cell_type": "markdown",
   "id": "8aad8be0-291b-4180-9bca-2e873080184d",
   "metadata": {
    "slideshow": {
     "slide_type": "subslide"
    },
    "tags": []
   },
   "source": [
    "- Lists"
   ]
  },
  {
   "cell_type": "code",
   "execution_count": 123,
   "id": "86867afb-bd20-4d75-94e4-0d9a49e29615",
   "metadata": {
    "tags": []
   },
   "outputs": [
    {
     "data": {
      "text/plain": [
       "8"
      ]
     },
     "execution_count": 123,
     "metadata": {},
     "output_type": "execute_result"
    }
   ],
   "source": [
    "my_list = [10, 9, 8, 7, 6, 5, 4, 3, 2, 1]\n",
    "my_list[2]"
   ]
  },
  {
   "cell_type": "markdown",
   "id": "afd73b10-ae28-4eb8-8c9c-b7ef93327a79",
   "metadata": {
    "slideshow": {
     "slide_type": "slide"
    },
    "tags": []
   },
   "source": [
    "# Variables"
   ]
  },
  {
   "cell_type": "code",
   "execution_count": 125,
   "id": "457e4a4b-b3ce-41ce-b206-0bec4d712acc",
   "metadata": {
    "tags": []
   },
   "outputs": [
    {
     "name": "stdout",
     "output_type": "stream",
     "text": [
      "Hello UE1\n"
     ]
    }
   ],
   "source": [
    "my_name = \"UE1\"\n",
    "print(\"Hello\",my_name)"
   ]
  },
  {
   "cell_type": "code",
   "execution_count": 127,
   "id": "3c40f8e2-f68b-46c5-b6e5-08bec3c4eb48",
   "metadata": {
    "slideshow": {
     "slide_type": "fragment"
    },
    "tags": []
   },
   "outputs": [
    {
     "name": "stdout",
     "output_type": "stream",
     "text": [
      "100\n"
     ]
    }
   ],
   "source": [
    "square_side = 10\n",
    "square_area = square_side * square_side\n",
    "print(square_area)  "
   ]
  },
  {
   "cell_type": "markdown",
   "id": "52ed11ea-ca43-4616-b548-2a960249355f",
   "metadata": {
    "slideshow": {
     "slide_type": "slide"
    },
    "tags": []
   },
   "source": [
    "# Control Flow\n",
    "Special words that control the order in which code is executed."
   ]
  },
  {
   "cell_type": "code",
   "execution_count": 129,
   "id": "ee0ae8fb-5c8f-4dd2-8300-b99ba99c8819",
   "metadata": {
    "slideshow": {
     "slide_type": "subslide"
    },
    "tags": []
   },
   "outputs": [
    {
     "name": "stdout",
     "output_type": "stream",
     "text": [
      "You might be in upper elementary\n"
     ]
    }
   ],
   "source": [
    "age = 10\n",
    "if age < 9:\n",
    "    print(\"You are not in upper elementary\")\n",
    "else:\n",
    "    print(\"You might be in upper elementary\")"
   ]
  },
  {
   "cell_type": "code",
   "execution_count": 130,
   "id": "0ddf0b63-8629-4fe8-8ae0-679690319ed2",
   "metadata": {
    "slideshow": {
     "slide_type": "subslide"
    },
    "tags": []
   },
   "outputs": [
    {
     "name": "stdout",
     "output_type": "stream",
     "text": [
      "Count is 1\n",
      "Count is 2\n",
      "Count is 3\n"
     ]
    }
   ],
   "source": [
    "count = 1\n",
    "while count <= 3:\n",
    "    print(f\"Count is {count}\")\n",
    "    count = count + 1"
   ]
  },
  {
   "cell_type": "code",
   "execution_count": 132,
   "id": "9a067314-7bc2-4ca6-b612-1850529fd9a5",
   "metadata": {
    "slideshow": {
     "slide_type": "subslide"
    },
    "tags": []
   },
   "outputs": [
    {
     "name": "stdout",
     "output_type": "stream",
     "text": [
      "Count is 1\n",
      "Count is 2\n",
      "Count is 3\n"
     ]
    }
   ],
   "source": [
    "for count in range(1, 4):\n",
    "    print(f\"Count is {count}\")"
   ]
  },
  {
   "cell_type": "markdown",
   "id": "f827a1f6-99c0-4031-8e21-08f00a017eee",
   "metadata": {
    "slideshow": {
     "slide_type": "slide"
    },
    "tags": []
   },
   "source": [
    "# Objects\n",
    "\n",
    "Objects are data types that have associated functions called methods."
   ]
  },
  {
   "cell_type": "code",
   "execution_count": 134,
   "id": "3395f2e1-2340-4b04-a918-d8178b4187f8",
   "metadata": {
    "tags": []
   },
   "outputs": [
    {
     "data": {
      "text/plain": [
       "'A string is a type of object'"
      ]
     },
     "execution_count": 134,
     "metadata": {},
     "output_type": "execute_result"
    }
   ],
   "source": [
    "my_object = \"A string is a data type\"\n",
    "my_object.replace(\"data type\", \"type of object\")"
   ]
  },
  {
   "cell_type": "markdown",
   "id": "59f7804e-0788-40f0-bc1c-92989904d35c",
   "metadata": {
    "slideshow": {
     "slide_type": "slide"
    },
    "tags": []
   },
   "source": [
    "# Putting it all Together"
   ]
  },
  {
   "cell_type": "markdown",
   "id": "6037e60b-24e4-46fe-b85d-f9ae1d68e943",
   "metadata": {
    "slideshow": {
     "slide_type": "subslide"
    },
    "tags": []
   },
   "source": [
    "2D Coordinates\n",
    "<img src=\"images/2d_coordinates.png\" style=\"width: 70%;\">"
   ]
  },
  {
   "cell_type": "code",
   "execution_count": 135,
   "id": "e66a732d-24d8-4225-8209-9bcc1e392d9b",
   "metadata": {
    "slideshow": {
     "slide_type": "subslide"
    },
    "tags": []
   },
   "outputs": [],
   "source": [
    "from ipycanvas import Canvas\n",
    "from time import sleep\n",
    "block_width = 40\n",
    "class World():\n",
    "    def __init__(self, width, height):\n",
    "        canvas = self._canvas = Canvas(width=width*block_width,height=height*block_width)\n",
    "        display(canvas)\n",
    "    def set_block(self, x, y, color):\n",
    "        self._canvas.fill_style = color\n",
    "        self._canvas.fill_rect(x * block_width, y * block_width, block_width)\n",
    "        sleep(0.1)"
   ]
  },
  {
   "cell_type": "code",
   "execution_count": 136,
   "id": "8055ae68-4987-4d36-856b-4f58e5951c8b",
   "metadata": {
    "slideshow": {
     "slide_type": "subslide"
    },
    "tags": []
   },
   "outputs": [
    {
     "data": {
      "application/vnd.jupyter.widget-view+json": {
       "model_id": "817e9998c14e40ce81dc443d62336b66",
       "version_major": 2,
       "version_minor": 0
      },
      "text/plain": [
       "Canvas(height=40, width=800)"
      ]
     },
     "metadata": {},
     "output_type": "display_data"
    }
   ],
   "source": [
    "w = World(20, 1)\n",
    "w.set_block(0, 0, 'red')\n",
    "w.set_block(1, 0, 'orange')\n",
    "w.set_block(2, 0, 'yellow')\n",
    "w.set_block(3, 0, 'green')\n",
    "w.set_block(4, 0, 'blue')\n",
    "w.set_block(5, 0, 'purple')"
   ]
  },
  {
   "cell_type": "code",
   "execution_count": 137,
   "id": "952c0ae0-5c24-4a1f-8304-e3d8435dfcc9",
   "metadata": {
    "slideshow": {
     "slide_type": "slide"
    },
    "tags": []
   },
   "outputs": [
    {
     "data": {
      "application/vnd.jupyter.widget-view+json": {
       "model_id": "75c37c78094548078cc0a04e09cd4344",
       "version_major": 2,
       "version_minor": 0
      },
      "text/plain": [
       "Canvas(height=280, width=240)"
      ]
     },
     "metadata": {},
     "output_type": "display_data"
    }
   ],
   "source": [
    "w = World(6, 7)\n",
    "colors = ['red', 'orange', 'yellow', 'green', 'blue', 'purple']\n",
    "for i, color in enumerate(colors):\n",
    "    for j in range(6):\n",
    "        w.set_block(j, i, color)"
   ]
  },
  {
   "cell_type": "code",
   "execution_count": 138,
   "id": "7d3787eb-7b24-44f8-8859-04bbdab58bb6",
   "metadata": {
    "slideshow": {
     "slide_type": "subslide"
    },
    "tags": []
   },
   "outputs": [
    {
     "data": {
      "application/vnd.jupyter.widget-view+json": {
       "model_id": "dd00aa9dc6dd43968f26780952d2c01e",
       "version_major": 2,
       "version_minor": 0
      },
      "text/plain": [
       "Canvas(height=400, width=400)"
      ]
     },
     "metadata": {},
     "output_type": "display_data"
    }
   ],
   "source": [
    "# Draw a square\n",
    "w = World(10, 10)\n",
    "size = 10\n",
    "for i in range(size):\n",
    "    for j in range(size):\n",
    "        if i == 0 or j == 0 or i == size -1 or j == size - 1:\n",
    "            w.set_block(i, j, 'gray')"
   ]
  },
  {
   "cell_type": "code",
   "execution_count": 140,
   "id": "40a3e44a-9bee-48b9-bd0f-1d9d76ad1c29",
   "metadata": {
    "slideshow": {
     "slide_type": "subslide"
    },
    "tags": []
   },
   "outputs": [
    {
     "data": {
      "application/vnd.jupyter.widget-view+json": {
       "model_id": "7d6507ebe152458ba6cbae7eb6f7d2a4",
       "version_major": 2,
       "version_minor": 0
      },
      "text/plain": [
       "Canvas(height=440, width=440)"
      ]
     },
     "metadata": {},
     "output_type": "display_data"
    }
   ],
   "source": [
    "# Draw a circle\n",
    "\n",
    "import math\n",
    "radius = 5\n",
    "w = World(radius*2+1, radius*2+1)\n",
    "for x in range(radius+1):\n",
    "    y = round(radius*math.sin(math.acos(x/radius)))\n",
    "    w.set_block(x + radius, y + radius, 'gray')\n",
    "    w.set_block(x + radius, -y + radius, 'gray')\n",
    "    w.set_block(-x + radius, y + radius, 'gray')\n",
    "    w.set_block(-x + radius, -y + radius, 'gray')\n",
    "    "
   ]
  },
  {
   "cell_type": "code",
   "execution_count": 142,
   "id": "04987a75-2ef0-43da-a150-ced02a18ffb2",
   "metadata": {
    "slideshow": {
     "slide_type": "subslide"
    },
    "tags": []
   },
   "outputs": [
    {
     "data": {
      "application/vnd.jupyter.widget-view+json": {
       "model_id": "aa9b46900b88442d9a126c06557236a4",
       "version_major": 2,
       "version_minor": 0
      },
      "text/plain": [
       "Canvas(height=440, width=440)"
      ]
     },
     "metadata": {},
     "output_type": "display_data"
    }
   ],
   "source": [
    "# Draw a circle without breaks.\n",
    "\n",
    "import math\n",
    "radius = 5\n",
    "w = World(radius*2+1, radius*2+1)\n",
    "last_y = None\n",
    "for x in range(radius+1):\n",
    "    new_y = round(radius*math.sin(math.acos(x/radius)))\n",
    "    ys = [new_y]\n",
    "    if last_y:\n",
    "        ys = range(new_y, last_y+1)\n",
    "\n",
    "    for y in ys:\n",
    "        w.set_block(x + radius, y + radius, 'gray')\n",
    "        w.set_block(x + radius, -y + radius, 'gray')\n",
    "        w.set_block(-x + radius, y + radius, 'gray')\n",
    "        w.set_block(-x + radius, -y + radius, 'gray')\n",
    "    last_y = new_y\n",
    "    "
   ]
  },
  {
   "cell_type": "code",
   "execution_count": 41,
   "id": "30bb16d3-9d9c-4d1d-aed1-7e73a3c862f5",
   "metadata": {
    "slideshow": {
     "slide_type": "subslide"
    },
    "tags": []
   },
   "outputs": [],
   "source": [
    "import math\n",
    "def draw_circle(world, radius, color):\n",
    "    last_y = None\n",
    "    for x in range(radius+1):\n",
    "        new_y = round(radius*math.sin(math.acos(x/radius)))\n",
    "        ys = [new_y]\n",
    "        if last_y:\n",
    "            ys = range(new_y, last_y+1)\n",
    "\n",
    "        for y in ys:\n",
    "            world.set_block(x + radius, y + radius, color)\n",
    "            world.set_block(x + radius, -y + radius, color)\n",
    "            world.set_block(-x + radius, y + radius, color)\n",
    "            world.set_block(-x + radius, -y + radius, color)\n",
    "        last_y = new_y\n",
    "    "
   ]
  },
  {
   "cell_type": "code",
   "execution_count": 143,
   "id": "7c1bb478-8f66-4a13-b55f-6110291a93e2",
   "metadata": {
    "tags": []
   },
   "outputs": [
    {
     "data": {
      "application/vnd.jupyter.widget-view+json": {
       "model_id": "5deeed3592214f2bbf6e36b4799ae233",
       "version_major": 2,
       "version_minor": 0
      },
      "text/plain": [
       "Canvas(height=800, width=800)"
      ]
     },
     "metadata": {},
     "output_type": "display_data"
    }
   ],
   "source": [
    "world = World(20, 20)\n",
    "colors = ['red', 'orange', 'yellow', 'green', 'blue', 'purple']\n",
    "for i, color in enumerate(colors):\n",
    "    draw_circle(world, i+2, color)"
   ]
  },
  {
   "cell_type": "markdown",
   "id": "b9670849-b5a2-49df-a071-79dd608b44e8",
   "metadata": {
    "slideshow": {
     "slide_type": "subslide"
    },
    "tags": []
   },
   "source": [
    "<img src=\"images/2d_3d_coordinates.jpg\" style=\"width: 70%;\">\n"
   ]
  }
 ],
 "metadata": {
  "kernelspec": {
   "display_name": "Python 3 (ipykernel)",
   "language": "python",
   "name": "python3"
  },
  "language_info": {
   "codemirror_mode": {
    "name": "ipython",
    "version": 3
   },
   "file_extension": ".py",
   "mimetype": "text/x-python",
   "name": "python",
   "nbconvert_exporter": "python",
   "pygments_lexer": "ipython3",
   "version": "3.10.10"
  }
 },
 "nbformat": 4,
 "nbformat_minor": 5
}
